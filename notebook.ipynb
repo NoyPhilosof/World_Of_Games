{
 "cells": [
  {
   "cell_type": "code",
   "execution_count": 7,
   "id": "8cdbd21b",
   "metadata": {},
   "outputs": [
    {
     "name": "stdout",
     "output_type": "stream",
     "text": [
      "                                                           w\r"
     ]
    }
   ],
   "source": [
    "from time import sleep\n",
    "s = \"w\"\n",
    "for i in range(60):\n",
    "    print(\" \"*i+\"w\", end=\"\\r\")\n",
    "    sleep(0.15)"
   ]
  }
 ],
 "metadata": {
  "kernelspec": {
   "display_name": "Python 3 (ipykernel)",
   "language": "python",
   "name": "python3"
  },
  "language_info": {
   "codemirror_mode": {
    "name": "ipython",
    "version": 3
   },
   "file_extension": ".py",
   "mimetype": "text/x-python",
   "name": "python",
   "nbconvert_exporter": "python",
   "pygments_lexer": "ipython3",
   "version": "3.10.1"
  }
 },
 "nbformat": 4,
 "nbformat_minor": 5
}
